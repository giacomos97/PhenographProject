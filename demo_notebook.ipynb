{
 "cells": [
  {
   "cell_type": "markdown",
   "id": "d6cb0da5-9a10-4ab7-9c51-764a04dd9306",
   "metadata": {},
   "source": [
    "# Demo notebook"
   ]
  },
  {
   "cell_type": "code",
   "execution_count": null,
   "id": "1ded3b90-6412-4ba4-9aa8-5b8f4ad9988c",
   "metadata": {},
   "outputs": [],
   "source": [
    "import scanpy as sc\n",
    "import pathlib\n",
    "import configparser\n",
    "\n",
    "import data_reading\n",
    "import data_analysis\n",
    "import data_plotting"
   ]
  },
  {
   "cell_type": "markdown",
   "id": "da252f60-d500-4585-b35e-acabc9f508db",
   "metadata": {},
   "source": [
    "## Setup  \n",
    "- Read the configuration file (*configuration.txt*)\n",
    "- Prepare working directories"
   ]
  },
  {
   "cell_type": "code",
   "execution_count": null,
   "id": "0532071d-2c88-47f2-b502-5673bd885196",
   "metadata": {},
   "outputs": [],
   "source": [
    "# Reading configuration file\n",
    "config = configparser.ConfigParser()\n",
    "config.read('configuration.txt')\n",
    "\n",
    "# Select directories\n",
    "data_source = pathlib.Path(config.get('paths', 'data_source'))\n",
    "coordinates_source = pathlib.Path(config.get('paths', 'coordinates_source'))\n",
    "figures_dir = pathlib.Path(config.get('paths', 'figures_dir'))\n",
    "temp_dir = pathlib.Path(config.get('paths', 'temp_dir'))\n",
    "\n",
    "# Scanpy parameters\n",
    "sc.settings.verbose = 3\n",
    "sc.set_figure_params(config.items('scanpy_figures'))\n",
    "sc.settings.figdir = figures_dir\n",
    "\n",
    "# Prepare workspace\n",
    "pathlib.Path(figures_dir).mkdir(parents = True, exist_ok = True)\n",
    "pathlib.Path(temp_dir).mkdir(parents = True, exist_ok = True)"
   ]
  },
  {
   "cell_type": "markdown",
   "id": "f40f6f4c-4cd9-4779-a24a-356a01a299cf",
   "metadata": {},
   "source": [
    "# Data reading  \n",
    "Read data from *data_source* and *coordinates_source* and store them as two files into *temp_dir*. Such files are named with unique identifier, stored in *filename* and used in the following steps. The files in *temp_dir* are overwritten at the end of this process."
   ]
  },
  {
   "cell_type": "code",
   "execution_count": null,
   "id": "5d22f1c7-a047-49ac-8285-0a72d8c7f61c",
   "metadata": {},
   "outputs": [],
   "source": [
    "filename = data_reading.READ(data_source, coordinates_source, temp_dir, config)"
   ]
  },
  {
   "cell_type": "markdown",
   "id": "28aea514-ec7c-4523-b02c-4e55755d0597",
   "metadata": {},
   "source": [
    "# Data analysis  \n",
    "## PCA  \n",
    "Perform PCA on the data stored in *temp_dir* identified by *filename*. For this process use the parameters stored in the configuration file previously read. The files in *temp_dir* are overwritten at the end of this process."
   ]
  },
  {
   "cell_type": "code",
   "execution_count": null,
   "id": "025485a3-a7ee-4901-92cf-8aa011be5918",
   "metadata": {},
   "outputs": [],
   "source": [
    "data_analysis.PCA(filename, temp_dir, config)"
   ]
  },
  {
   "cell_type": "markdown",
   "id": "8c04b4a0-5a26-4184-9de9-418a3b85ec66",
   "metadata": {},
   "source": [
    "## Neighbors graph and UMAP  \n",
    "Construct the neighbors graph and then perform UMAP on the data stored in *temp_dir* identified by *filename*. For this process use the parameters stored in the configuration file previously read. The files in *temp_dir* are overwritten at the end of this process."
   ]
  },
  {
   "cell_type": "code",
   "execution_count": null,
   "id": "19da3984-82be-4be1-b5cc-8207169eadcd",
   "metadata": {},
   "outputs": [],
   "source": [
    "data_analysis.NEIGHBORS(filename, temp_dir, config)\n",
    "data_analysis.UMAP(filename, temp_dir, config)"
   ]
  },
  {
   "cell_type": "markdown",
   "id": "f6dcb095-1849-453e-9e24-4bbf36068e84",
   "metadata": {},
   "source": [
    "## PhenoGraph  \n",
    "Identify the clusters by performing PhenoGraph on the data stored in *temp_dir* identified by *filename*. For this process use the parameters stored in the configuration file previously read. The files in *temp_dir* are overwritten at the end of this process."
   ]
  },
  {
   "cell_type": "code",
   "execution_count": null,
   "id": "2a292df6-ca19-40de-96e0-b0ffe6ff1507",
   "metadata": {},
   "outputs": [],
   "source": [
    "data_analysis.PHENOGRAPH(filename, temp_dir, config)"
   ]
  },
  {
   "cell_type": "markdown",
   "id": "ff35bfee-7eab-4e23-95b2-3766f94df5c9",
   "metadata": {},
   "source": [
    "# Plotting  \n",
    "## UMAP representation  \n",
    "Represent previous UMAP results colored considering PhenoGraph clustering results. The plot is generated considering the parameters stored in the configuration file previously read. A *.png* version of the plot is also stored in the *figures_dir*."
   ]
  },
  {
   "cell_type": "code",
   "execution_count": null,
   "id": "a2bb8095-a1a0-48b6-9aa9-6fbc93864fcb",
   "metadata": {},
   "outputs": [],
   "source": [
    "data_plotting.UMAP(filename, temp_dir, figures_dir, config)"
   ]
  },
  {
   "cell_type": "markdown",
   "id": "7e7a6cf9-0028-4671-b744-a8d3fbfc081b",
   "metadata": {},
   "source": [
    "## Clusters representation  \n",
    "Represent spatial coordinated previous UMAP results colored considering PhenoGraph clustering results. The plot is generated considering the parameters stored in the configuration file previously read. An interactive *.html* version of the plot is also stored in the *figures_dir*."
   ]
  },
  {
   "cell_type": "code",
   "execution_count": null,
   "id": "767f3ff9-b8c6-4481-8527-5d5f42574c44",
   "metadata": {},
   "outputs": [],
   "source": [
    "data_plotting.CLUSTERS(filename, temp_dir, figures_dir, config)"
   ]
  },
  {
   "cell_type": "markdown",
   "id": "705379c0-65b8-4442-8fba-78495854ff4a",
   "metadata": {},
   "source": [
    " "
   ]
  }
 ],
 "metadata": {
  "kernelspec": {
   "display_name": "Python 3",
   "language": "python",
   "name": "python3"
  },
  "language_info": {
   "codemirror_mode": {
    "name": "ipython",
    "version": 3
   },
   "file_extension": ".py",
   "mimetype": "text/x-python",
   "name": "python",
   "nbconvert_exporter": "python",
   "pygments_lexer": "ipython3",
   "version": "3.8.10"
  }
 },
 "nbformat": 4,
 "nbformat_minor": 5
}
